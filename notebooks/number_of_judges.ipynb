{
 "cells": [
  {
   "cell_type": "markdown",
   "id": "50ee67d9",
   "metadata": {},
   "source": [
    "# Variations on the number of judges\n",
    "\n",
    "Vary judges number from 1 to $m$ and compute stability."
   ]
  },
  {
   "cell_type": "code",
   "execution_count": 1,
   "id": "d16245de",
   "metadata": {},
   "outputs": [],
   "source": [
    "%load_ext autoreload\n",
    "%autoreload 2\n",
    "%matplotlib inline\n",
    "from IPython.display import Image\n",
    "import numpy as np\n",
    "import pandas as pd\n",
    "import matplotlib.pyplot as plt\n",
    "import seaborn as sns\n",
    "import os\n",
    "from tqdm import tqdm\n",
    "import sys\n",
    "sys.path.append('../../ranky')\n",
    "import ranky as rk\n",
    "from cycler import cycler\n",
    "plt.rcParams['axes.prop_cycle'] = cycler('color', ['#1f77b4', '#ff7f0e', '#2ca02c', '#d62728', '#9467bd', (0.2, 0.2, 0.4), '#e377c2', '#7f7f7f', '#bcbd22', '#17becf']) # '#252545'"
   ]
  },
  {
   "cell_type": "code",
   "execution_count": 16,
   "id": "bffb9380",
   "metadata": {},
   "outputs": [],
   "source": [
    "def experiment(m, verbose=True, size_limit=50000, trials=50, num_div=None, method='Mean'):\n",
    "    if m.shape[1] > size_limit:\n",
    "        return [0], [0]\n",
    "    last = m.shape[1]\n",
    "    if num_div is None:\n",
    "        div = 1\n",
    "    else:\n",
    "        div = int(last / num_div)\n",
    "    x = range(1, last, div)\n",
    "    stabilities = []\n",
    "    for i in (tqdm(x) if verbose else x):\n",
    "        scores = []\n",
    "        for _ in range(trials):\n",
    "            _m = rk.bootstrap(m, axis=1, n=i)\n",
    "            if method == 'Mean':\n",
    "                r = rk.score(_m)\n",
    "            elif method == 'Median':\n",
    "                r = rk.majority(_m)\n",
    "            elif method == 'Average rank':\n",
    "                r = rk.borda(_m, reverse=True)\n",
    "            elif method == 'Success rate':\n",
    "                r = rk.pairwise(_m, wins=rk.success_rate)\n",
    "            elif method == \"Copeland's method\":\n",
    "                r = rk.pairwise(_m)\n",
    "            elif method == 'Relative difference':\n",
    "                r = rk.pairwise(_m, wins=rk.relative_difference)\n",
    "            scores.append(r)\n",
    "        scores = np.array(scores)\n",
    "        stabilities.append(rk.kendall_w(scores))\n",
    "    return x, stabilities\n",
    "    \n",
    "def plot_stability(x, stabilities, title=None, xlabel='Number of test samples'):\n",
    "    # plot results\n",
    "    plt.plot(x, stabilities)\n",
    "    plt.xlabel(xlabel)\n",
    "    plt.ylabel('Stability')\n",
    "    if title is not None:\n",
    "        plt.title(title)\n",
    "    plt.show()\n",
    "    \n",
    "def plot_stabilities(tuple_list, log_transform=False, title=None, xlabel='Number of test samples', labels=None):\n",
    "    fig, ax = plt.subplots()\n",
    "    i = 0\n",
    "    for x, stabilities in tuple_list:\n",
    "        label = labels[i] if labels is not None else None\n",
    "        i += 1\n",
    "        if log_transform:\n",
    "            plt.semilogx(x, stabilities, alpha=0.8, label=label)\n",
    "        else:\n",
    "            plt.plot(x, stabilities, alpha=0.8, label=label)\n",
    "    plt.xlabel(xlabel)\n",
    "    plt.ylabel('Stability')\n",
    "    ax.set_facecolor('#EAEAF2')  \n",
    "    ax.grid(True, color='white')\n",
    "    ax.set_axisbelow(True)\n",
    "    if title is not None:\n",
    "        plt.title(title)\n",
    "    if labels is not None:\n",
    "        plt.legend(loc='center left', bbox_to_anchor=(1, 0.5))\n",
    "    plt.show()"
   ]
  },
  {
   "cell_type": "code",
   "execution_count": 4,
   "id": "8e2c2776",
   "metadata": {},
   "outputs": [],
   "source": [
    "folder = '../data/'\n",
    "\n",
    "# load from CSV files\n",
    "def load_da(name):\n",
    "    return pd.read_csv(os.path.join(folder, name+'.data'), sep=' ', header=None).T\n",
    "\n",
    "da_names = ['AutoDL-AUC', 'AutoDL-ALC', 'AutoML', 'Artificial', 'OpenML', 'Statlog']\n",
    "da_matrices = [load_da(name) for name in da_names]"
   ]
  },
  {
   "cell_type": "code",
   "execution_count": 3,
   "id": "c8f4c788",
   "metadata": {},
   "outputs": [],
   "source": [
    "methods = ['Mean', 'Median', 'Average rank', 'Success rate', \"Copeland's method\", 'Relative difference']"
   ]
  },
  {
   "cell_type": "code",
   "execution_count": null,
   "id": "6da69811",
   "metadata": {},
   "outputs": [
    {
     "name": "stdout",
     "output_type": "stream",
     "text": [
      "AutoDL-AUC\n"
     ]
    },
    {
     "name": "stderr",
     "output_type": "stream",
     "text": [
      " 33%|████████████████████████████████████████████████████████▎                                                                                                                | 2/6 [00:15<00:30,  7.67s/it]"
     ]
    }
   ],
   "source": [
    "trials = 1000\n",
    "num_div = 50\n",
    "for num in range(len(da_names)):\n",
    "    name = da_names[num]\n",
    "    print(name)\n",
    "    m = da_matrices[num]\n",
    "    tl = []\n",
    "    for method in tqdm(methods):\n",
    "        tl.append(experiment(m, trials=trials, method=method, num_div=num_div, verbose=False))\n",
    "    plot_stabilities(tl, xlabel='Number of test datasets', title=da_names[num], labels=methods)"
   ]
  },
  {
   "cell_type": "code",
   "execution_count": null,
   "id": "97ce3cbb",
   "metadata": {},
   "outputs": [],
   "source": []
  }
 ],
 "metadata": {
  "kernelspec": {
   "display_name": "Python 3 (ipykernel)",
   "language": "python",
   "name": "python3"
  },
  "language_info": {
   "codemirror_mode": {
    "name": "ipython",
    "version": 3
   },
   "file_extension": ".py",
   "mimetype": "text/x-python",
   "name": "python",
   "nbconvert_exporter": "python",
   "pygments_lexer": "ipython3",
   "version": "3.10.10"
  }
 },
 "nbformat": 4,
 "nbformat_minor": 5
}
