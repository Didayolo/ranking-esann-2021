{
 "cells": [
  {
   "cell_type": "markdown",
   "metadata": {},
   "source": [
    "# Mini test matrices to judge ranking methods\n",
    "Isabelle Guyon, May 14, 2020"
   ]
  },
  {
   "cell_type": "code",
   "execution_count": 1,
   "metadata": {},
   "outputs": [],
   "source": [
    "# Load general libraries\n",
    "import os, re\n",
    "from glob import glob as ls\n",
    "from PIL import Image\n",
    "import numpy as np\n",
    "import matplotlib.pyplot as plt\n",
    "%matplotlib inline\n",
    "import pandas as pd\n",
    "import seaborn as sns; sns.set()\n",
    "from PIL import Image\n",
    "%load_ext autoreload\n",
    "%autoreload 2\n",
    "import warnings\n",
    "warnings.filterwarnings(\"ignore\")\n",
    "from sys import path\n",
    "eps =  np.finfo(np.float).eps"
   ]
  },
  {
   "cell_type": "markdown",
   "metadata": {},
   "source": [
    "# Case 1: Consensus\n",
    "All judges j provide identical ranking scores, no ties. The scores discrete and between 0 and (n-1). The winner has rank 0.\n",
    "\n",
    "Let R[:, j] be the participant ranks given by judge j.\n",
    "We consider 2 cases:\n",
    "* **Larger score is better (s = -1)**: M[:, j] == R[:, j]\n",
    "* **Smaller score is better (s = 1)**: M[:, j] == (n-1-R[:, j]).\n",
    "\n",
    "We consider basic judges (based on averaging) and pariwise judges. Basic judges retain the polarity (larger score is better or lower score is better), while pairwise judges are always larger is better. For the basic judges, onne must multiply by the polarity s before sorting, and for the pariwise judges always by -1."
   ]
  },
  {
   "cell_type": "code",
   "execution_count": 2,
   "metadata": {},
   "outputs": [
    {
     "name": "stdout",
     "output_type": "stream",
     "text": [
      "Score matrix\n",
      "Larger is better\n"
     ]
    },
    {
     "data": {
      "text/plain": [
       "array([[2, 2, 2, 2],\n",
       "       [5, 5, 5, 5],\n",
       "       [3, 3, 3, 3],\n",
       "       [0, 0, 0, 0],\n",
       "       [1, 1, 1, 1],\n",
       "       [4, 4, 4, 4]])"
      ]
     },
     "execution_count": 2,
     "metadata": {},
     "output_type": "execute_result"
    }
   ],
   "source": [
    "n = 6 # Number of candidates\n",
    "m = 4  # Number of judges\n",
    "s = -1  # Score polarity\n",
    "judge0 = np.random.permutation(n)\n",
    "M = np.repeat(judge0.T, m, axis=0)\n",
    "M = M.reshape(n,m)\n",
    "print(\"Score matrix\")\n",
    "if s==1:\n",
    "    print(\"Smaller is better\")\n",
    "else:\n",
    "    print(\"Larger is better\")\n",
    "M"
   ]
  },
  {
   "cell_type": "markdown",
   "metadata": {},
   "source": [
    "We call rank matrix R the matrix, which replaces the scores by ranks. A smaller rank is better. The winner is ranked 0."
   ]
  },
  {
   "cell_type": "code",
   "execution_count": 3,
   "metadata": {},
   "outputs": [
    {
     "name": "stdout",
     "output_type": "stream",
     "text": [
      "Rank matrix\n",
      "Smaller is better\n"
     ]
    },
    {
     "data": {
      "text/plain": [
       "array([[3., 3., 3., 3.],\n",
       "       [0., 0., 0., 0.],\n",
       "       [2., 2., 2., 2.],\n",
       "       [5., 5., 5., 5.],\n",
       "       [4., 4., 4., 4.],\n",
       "       [1., 1., 1., 1.]])"
      ]
     },
     "execution_count": 3,
     "metadata": {},
     "output_type": "execute_result"
    }
   ],
   "source": [
    "R = np.zeros(M.shape)\n",
    "for j in range(m):\n",
    "    sorted_candidates = np.argsort(s*M[:,j])\n",
    "    R[sorted_candidates,j] = np.arange(n)\n",
    "print(\"Rank matrix\")\n",
    "print(\"Smaller is better\")\n",
    "R"
   ]
  },
  {
   "cell_type": "code",
   "execution_count": 4,
   "metadata": {},
   "outputs": [],
   "source": [
    "if s>0:\n",
    "    assert((R == M).all())\n",
    "else:\n",
    "    assert((n-1-R == M).all())"
   ]
  },
  {
   "cell_type": "markdown",
   "metadata": {},
   "source": [
    "A judge provides a list of sorted candidates. The first one has rank 0 and corresponds to the best score."
   ]
  },
  {
   "cell_type": "code",
   "execution_count": 5,
   "metadata": {},
   "outputs": [
    {
     "name": "stdout",
     "output_type": "stream",
     "text": [
      "Candidates sorted by the reference judge:\n",
      "[1 5 2 0 4 3]\n"
     ]
    }
   ],
   "source": [
    "sorted_candidates_0 = np.argsort(s*judge0)\n",
    "print(\"Candidates sorted by the reference judge:\")\n",
    "print(sorted_candidates_0)"
   ]
  },
  {
   "cell_type": "markdown",
   "metadata": {},
   "source": [
    "## Basic judges:"
   ]
  },
  {
   "cell_type": "markdown",
   "metadata": {},
   "source": [
    "Mean, median, average rank all provide the same ranking as judge0."
   ]
  },
  {
   "cell_type": "code",
   "execution_count": 6,
   "metadata": {},
   "outputs": [
    {
     "name": "stdout",
     "output_type": "stream",
     "text": [
      "Scores:\n",
      "judge_mean [2. 5. 3. 0. 1. 4.]\n",
      "judge_median [2. 5. 3. 0. 1. 4.]\n",
      "judge_ave_rank [-3.  0. -2. -5. -4. -1.]\n"
     ]
    }
   ],
   "source": [
    "judge_dict       = { 'judge_mean': np.mean(M, axis=1),\n",
    "                     'judge_median': np.median(M, axis=1),\n",
    "                     'judge_ave_rank': np.mean(s*R, axis=1) } # We need to multiply rank by polarity s\n",
    "print(\"Scores:\")\n",
    "for judge in judge_dict:\n",
    "    print(judge, judge_dict[judge])"
   ]
  },
  {
   "cell_type": "code",
   "execution_count": 7,
   "metadata": {},
   "outputs": [
    {
     "name": "stdout",
     "output_type": "stream",
     "text": [
      "Sorted candidates:\n",
      "judge_mean [1 5 2 0 4 3]\n",
      "judge_median [1 5 2 0 4 3]\n",
      "judge_ave_rank [1 5 2 0 4 3]\n"
     ]
    }
   ],
   "source": [
    "print(\"Sorted candidates:\")\n",
    "for judge in judge_dict:\n",
    "    sorted_candidates = np.argsort(s*judge_dict[judge]) # We need to take polarity into account\n",
    "    print(judge, sorted_candidates)\n",
    "    assert((sorted_candidates == sorted_candidates_0).all())"
   ]
  },
  {
   "cell_type": "markdown",
   "metadata": {},
   "source": [
    "## Pairwise judges:"
   ]
  },
  {
   "cell_type": "markdown",
   "metadata": {},
   "source": [
    "For the pairwise judges, LARGER is always better (those are success rates).\n",
    "We compute, the relative differences, and derive from them success_rate and copeland variants. "
   ]
  },
  {
   "cell_type": "code",
   "execution_count": 8,
   "metadata": {},
   "outputs": [],
   "source": [
    "def get_relative(M, larger_is_better = True, success_rate=False, copeland=False):\n",
    "    if larger_is_better:\n",
    "        L = 1\n",
    "    else:\n",
    "        L = -1\n",
    "    # Paired comparisons in performance between candidates\n",
    "    C = np.zeros((n, n))\n",
    "    for i in range(n):\n",
    "        for j in range(n):\n",
    "            # Compute performance differences, multiply by polarity to get a score larger is better\n",
    "            rel_diff = 2* L * (M[i,:] - M[j,:]) / (M[i,:] + M[j,:] + eps) # Makes best sense for scores \"lower is better\"\n",
    "            if success_rate or copeland:\n",
    "                 rel_diff = rel_diff>0 \n",
    "            # Compute mean\n",
    "            C[i, j] = np.mean(rel_diff, axis=0)\n",
    "            if copeland:\n",
    "                C[i, j] = C[i, j] > 0.5\n",
    "    return L*C # Restore the same polarity as M"
   ]
  },
  {
   "cell_type": "markdown",
   "metadata": {},
   "source": [
    "### Relative difference:"
   ]
  },
  {
   "cell_type": "code",
   "execution_count": 9,
   "metadata": {},
   "outputs": [
    {
     "name": "stdout",
     "output_type": "stream",
     "text": [
      "Relative difference scores:\n",
      "[ 0.12380952  0.81878307  0.43571429 -1.66666667 -0.36666667  0.65502646]\n"
     ]
    },
    {
     "data": {
      "image/png": "[encoded data removed]",
      "text/plain": [
       "<Figure size 432x288 with 2 Axes>"
      ]
     },
     "metadata": {},
     "output_type": "display_data"
    }
   ],
   "source": [
    "C = get_relative(M, larger_is_better = (s<0))\n",
    "sns.heatmap(C, annot=True, fmt='5.1f')\n",
    "judge_rel_diff = np.mean(C, axis=1)\n",
    "print(\"Relative difference scores:\")\n",
    "print(judge_rel_diff)"
   ]
  },
  {
   "cell_type": "markdown",
   "metadata": {},
   "source": [
    "The candidates are still in line. The judges are performances against other candidates, larger is better, found in column. \n",
    "We verify that the relative difference judge gives the same ranking:"
   ]
  },
  {
   "cell_type": "markdown",
   "metadata": {},
   "source": [
    "### Success rate:\n",
    "Success rate uses as a ranking criterion the number of wins in pair matches, accross all candidate pariwise comparisons and all judges. One can use the relative difference matrix and threshold it. A positive number means a win."
   ]
  },
  {
   "cell_type": "code",
   "execution_count": 10,
   "metadata": {},
   "outputs": [
    {
     "name": "stdout",
     "output_type": "stream",
     "text": [
      "Success rate scores:\n",
      "[0.33333333 0.83333333 0.5        0.         0.16666667 0.66666667]\n"
     ]
    },
    {
     "data": {
      "image/png": "[encoded data removed]",
      "text/plain": [
       "<Figure size 432x288 with 2 Axes>"
      ]
     },
     "metadata": {},
     "output_type": "display_data"
    }
   ],
   "source": [
    "C = get_relative(M, larger_is_better = (s<0), success_rate=True)\n",
    "sns.heatmap(C, annot=True, fmt='5.1f')\n",
    "judge_success_rate = np.mean(C, axis=1)\n",
    "print(\"Success rate scores:\")\n",
    "print(judge_success_rate)"
   ]
  },
  {
   "cell_type": "markdown",
   "metadata": {},
   "source": [
    "### Copeland:\n",
    "[Copeland](https://en.wikipedia.org/wiki/Copeland%27s_method#:~:text=Copeland's%20method%20is%20a%20ranked,referred%20to%20as%20%22Llull's%20method%22) is simular as success rate, but, in a match between a pair of candidates, one considers that there is a win of the majority of judges prefers a candidate. "
   ]
  },
  {
   "cell_type": "code",
   "execution_count": 11,
   "metadata": {},
   "outputs": [
    {
     "name": "stdout",
     "output_type": "stream",
     "text": [
      "Copeland scores:\n",
      "[0.33333333 0.83333333 0.5        0.         0.16666667 0.66666667]\n"
     ]
    },
    {
     "data": {
      "image/png": "[encoded data removed]",
      "text/plain": [
       "<Figure size 432x288 with 2 Axes>"
      ]
     },
     "metadata": {},
     "output_type": "display_data"
    }
   ],
   "source": [
    "C = get_relative(M, larger_is_better = (s<0), copeland=True)\n",
    "sns.heatmap(C, annot=True, fmt='5.1f')\n",
    "judge_copeland = np.mean(C, axis=1)\n",
    "print(\"Copeland scores:\")\n",
    "print(judge_copeland)"
   ]
  },
  {
   "cell_type": "markdown",
   "metadata": {},
   "source": [
    "### Verify all pairwise judges give the same result as judge0:"
   ]
  },
  {
   "cell_type": "code",
   "execution_count": 12,
   "metadata": {},
   "outputs": [
    {
     "name": "stdout",
     "output_type": "stream",
     "text": [
      "Sorted candidates:\n",
      "judge_rel_diff [1 5 2 0 4 3]\n",
      "judge_success_rate [1 5 2 0 4 3]\n",
      "judge_copeland [1 5 2 0 4 3]\n"
     ]
    }
   ],
   "source": [
    "judge_dict       = { 'judge_rel_diff': judge_rel_diff,\n",
    "                     'judge_success_rate': judge_success_rate,\n",
    "                     'judge_copeland': judge_copeland }\n",
    "print(\"Sorted candidates:\")\n",
    "for judge in judge_dict:\n",
    "    print(judge, np.argsort(s*judge_dict[judge]))  # Pairwise scores are all success rates\n",
    "    assert((sorted_candidates == sorted_candidates_0).all())"
   ]
  },
  {
   "cell_type": "markdown",
   "metadata": {},
   "source": [
    "### Summarize results:"
   ]
  },
  {
   "cell_type": "code",
   "execution_count": 13,
   "metadata": {},
   "outputs": [
    {
     "name": "stdout",
     "output_type": "stream",
     "text": [
      "Scores:\n",
      "judge_mean [2. 5. 3. 0. 1. 4.]\n",
      "judge_median [2. 5. 3. 0. 1. 4.]\n",
      "judge_ave_rank [-3.  0. -2. -5. -4. -1.]\n",
      "judge_rel_diff [ 0.12380952  0.81878307  0.43571429 -1.66666667 -0.36666667  0.65502646]\n",
      "judge_success_rate [0.33333333 0.83333333 0.5        0.         0.16666667 0.66666667]\n",
      "judge_copeland [0.33333333 0.83333333 0.5        0.         0.16666667 0.66666667]\n",
      "\n",
      "Sorted candidates:\n",
      "judge_mean [1 5 2 0 4 3]\n",
      "judge_median [1 5 2 0 4 3]\n",
      "judge_ave_rank [1 5 2 0 4 3]\n",
      "judge_rel_diff [1 5 2 0 4 3]\n",
      "judge_success_rate [1 5 2 0 4 3]\n",
      "judge_copeland [1 5 2 0 4 3]\n"
     ]
    }
   ],
   "source": [
    "def show_judgements(M):\n",
    "    judge_dict   = { 'judge_mean': np.mean(M, axis=1),\n",
    "                     'judge_median': np.median(M, axis=1),\n",
    "                     'judge_ave_rank': np.mean(s*R, axis=1), # We need to multiply rank by polarity s\n",
    "                     'judge_rel_diff': np.mean(get_relative(M, larger_is_better = (s<0)), axis=1),\n",
    "                     'judge_success_rate': np.mean(get_relative(M, larger_is_better = (s<0), success_rate=True), axis=1),\n",
    "                     'judge_copeland': np.mean(get_relative(M, larger_is_better = (s<0), copeland=True), axis=1) } \n",
    "\n",
    "    judgement = judge_dict.copy()\n",
    "    print(\"Scores:\")\n",
    "    for judge in judge_dict:\n",
    "        print(judge, judge_dict[judge])\n",
    "\n",
    "    print(\"\\nSorted candidates:\")\n",
    "    for judge in judge_dict:\n",
    "        judgement[judge] = np.argsort(s*judge_dict[judge])\n",
    "        print(judge, judgement[judge]) \n",
    "    return judge_dict, judgement\n",
    "\n",
    "judge_consensus, judgement_consensus = show_judgements(M)"
   ]
  },
  {
   "cell_type": "markdown",
   "metadata": {},
   "source": [
    "# Case 2: Antagonist judges\n",
    "Half of the judges have the opposite opinion of the other half."
   ]
  },
  {
   "cell_type": "code",
   "execution_count": 14,
   "metadata": {},
   "outputs": [
    {
     "data": {
      "text/plain": [
       "array([[2, 2, 3, 3],\n",
       "       [5, 5, 0, 0],\n",
       "       [3, 3, 2, 2],\n",
       "       [0, 0, 5, 5],\n",
       "       [1, 1, 4, 4],\n",
       "       [4, 4, 1, 1]])"
      ]
     },
     "execution_count": 14,
     "metadata": {},
     "output_type": "execute_result"
    }
   ],
   "source": [
    "M = np.concatenate((judge0, judge0, n-1-judge0, n-1-judge0))\n",
    "M = M.reshape(m,n).T\n",
    "M"
   ]
  },
  {
   "cell_type": "markdown",
   "metadata": {},
   "source": [
    "Get the rank matrix:"
   ]
  },
  {
   "cell_type": "code",
   "execution_count": 15,
   "metadata": {},
   "outputs": [
    {
     "data": {
      "text/plain": [
       "array([[3., 3., 2., 2.],\n",
       "       [0., 0., 5., 5.],\n",
       "       [2., 2., 3., 3.],\n",
       "       [5., 5., 0., 0.],\n",
       "       [4., 4., 1., 1.],\n",
       "       [1., 1., 4., 4.]])"
      ]
     },
     "execution_count": 15,
     "metadata": {},
     "output_type": "execute_result"
    }
   ],
   "source": [
    "R = np.zeros(M.shape)\n",
    "for j in range(m):\n",
    "    sorted_candidates = np.argsort(s*M[:,j])\n",
    "    R[sorted_candidates,j] = np.arange(n)\n",
    "R"
   ]
  },
  {
   "cell_type": "code",
   "execution_count": 16,
   "metadata": {},
   "outputs": [
    {
     "name": "stdout",
     "output_type": "stream",
     "text": [
      "Scores:\n",
      "judge_mean [2.5 2.5 2.5 2.5 2.5 2.5]\n",
      "judge_median [2.5 2.5 2.5 2.5 2.5 2.5]\n",
      "judge_ave_rank [-2.5 -2.5 -2.5 -2.5 -2.5 -2.5]\n",
      "judge_rel_diff [ 0.2797619  -0.4239418   0.2797619  -0.4239418   0.14417989  0.14417989]\n",
      "judge_success_rate [0.41666667 0.41666667 0.41666667 0.41666667 0.41666667 0.41666667]\n",
      "judge_copeland [0. 0. 0. 0. 0. 0.]\n",
      "\n",
      "Sorted candidates:\n",
      "judge_mean [0 1 2 3 4 5]\n",
      "judge_median [0 1 2 3 4 5]\n",
      "judge_ave_rank [0 1 2 3 4 5]\n",
      "judge_rel_diff [0 2 4 5 1 3]\n",
      "judge_success_rate [0 1 2 3 4 5]\n",
      "judge_copeland [0 1 2 3 4 5]\n"
     ]
    }
   ],
   "source": [
    "judge_antagonist, judgement_antagonist = show_judgements(M)"
   ]
  },
  {
   "cell_type": "markdown",
   "metadata": {},
   "source": [
    "Argsort does not handle ties, they are arbitrarily broken.\n",
    "\n",
    "Relative difference is the only method not having a n-way tie. There are tie pairs only. If s=-1 (largest scores are best), the candidates on which the judges least disagree win! This is a good thing if what we want is to find a generalist method that never does horribly bad on any task. However, if s=1 (smallest scores are best) it is the opposite; then candidates which do well on at least a subset of tasks win. Thus \"relative difference\" either correlate or anti-correlate with judge variance."
   ]
  },
  {
   "cell_type": "code",
   "execution_count": 17,
   "metadata": {},
   "outputs": [
    {
     "data": {
      "text/plain": [
       "array([0.25, 6.25, 0.25, 6.25, 2.25, 2.25])"
      ]
     },
     "execution_count": 17,
     "metadata": {},
     "output_type": "execute_result"
    }
   ],
   "source": [
    "judge_variance = np.var(M, axis=1)\n",
    "judge_variance"
   ]
  },
  {
   "cell_type": "code",
   "execution_count": 18,
   "metadata": {},
   "outputs": [
    {
     "data": {
      "text/plain": [
       "array([0, 2, 4, 5, 1, 3])"
      ]
     },
     "execution_count": 18,
     "metadata": {},
     "output_type": "execute_result"
    }
   ],
   "source": [
    "judgement_variance = np.argsort(-s*judge_variance)\n",
    "judgement_variance"
   ]
  },
  {
   "cell_type": "markdown",
   "metadata": {},
   "source": [
    "### Stability is case of antagonist judges\n",
    "One can see that for all methods but \"relative difference\", removing one judge with change eveything COMPLETELY."
   ]
  },
  {
   "cell_type": "code",
   "execution_count": 19,
   "metadata": {},
   "outputs": [
    {
     "data": {
      "text/plain": [
       "array([[2, 3, 3],\n",
       "       [5, 0, 0],\n",
       "       [3, 2, 2],\n",
       "       [0, 5, 5],\n",
       "       [1, 4, 4],\n",
       "       [4, 1, 1]])"
      ]
     },
     "execution_count": 19,
     "metadata": {},
     "output_type": "execute_result"
    }
   ],
   "source": [
    "M = M[:,1:]\n",
    "M"
   ]
  },
  {
   "cell_type": "code",
   "execution_count": 20,
   "metadata": {},
   "outputs": [
    {
     "data": {
      "text/plain": [
       "array([[3., 2., 2.],\n",
       "       [0., 5., 5.],\n",
       "       [2., 3., 3.],\n",
       "       [5., 0., 0.],\n",
       "       [4., 1., 1.],\n",
       "       [1., 4., 4.]])"
      ]
     },
     "execution_count": 20,
     "metadata": {},
     "output_type": "execute_result"
    }
   ],
   "source": [
    "R = R[:,1:]\n",
    "R"
   ]
  },
  {
   "cell_type": "code",
   "execution_count": 21,
   "metadata": {},
   "outputs": [
    {
     "name": "stdout",
     "output_type": "stream",
     "text": [
      "Scores:\n",
      "judge_mean [2.66666667 1.66666667 2.33333333 3.33333333 3.         2.        ]\n",
      "judge_median [3. 0. 2. 5. 4. 1.]\n",
      "judge_ave_rank [-2.33333333 -3.33333333 -2.66666667 -1.66666667 -2.         -3.        ]\n",
      "judge_rel_diff [ 0.33174603 -0.83818342  0.22777778 -0.00970018  0.31446208 -0.02610229]\n",
      "judge_success_rate [0.44444444 0.27777778 0.38888889 0.55555556 0.5        0.33333333]\n",
      "judge_copeland [0.5        0.         0.33333333 0.83333333 0.66666667 0.16666667]\n",
      "\n",
      "Sorted candidates:\n",
      "judge_mean [3 4 0 2 5 1]\n",
      "judge_median [3 4 0 2 5 1]\n",
      "judge_ave_rank [3 4 0 2 5 1]\n",
      "judge_rel_diff [0 4 2 3 5 1]\n",
      "judge_success_rate [3 4 0 2 5 1]\n",
      "judge_copeland [3 4 0 2 5 1]\n"
     ]
    }
   ],
   "source": [
    "judge_perturbated, judgement_perturbated = show_judgements(M)"
   ]
  },
  {
   "cell_type": "markdown",
   "metadata": {},
   "source": [
    "They all agree, except \"relative difference\", which has a verdict which could on average be more similar to its previous opinion, since the other methods had a tie. **This explains why relative difference is more stable in the case of the artificial data, which is similar to the case of antagonist judges**."
   ]
  },
  {
   "cell_type": "code",
   "execution_count": 22,
   "metadata": {},
   "outputs": [
    {
     "name": "stdout",
     "output_type": "stream",
     "text": [
      "judge_mean nan\n",
      "judge_median nan\n",
      "judge_ave_rank nan\n",
      "judge_rel_diff 0.7604560658162847\n",
      "judge_success_rate nan\n",
      "judge_copeland nan\n"
     ]
    }
   ],
   "source": [
    "for judge in judge_perturbated:\n",
    "    c = np.corrcoef(judge_antagonist[judge], judge_perturbated[judge])[0,1]\n",
    "    print(judge, c)"
   ]
  },
  {
   "cell_type": "markdown",
   "metadata": {},
   "source": [
    "**Warning** for relative difference: The effect is difference if scores are the LARGER the better or the SMALLER the better. For Dassault we had MAE => the smaller the better. Thus the difference is blown up for \"good\" performance (small MAE), and we do not penalize as much in regions where both methods do poorly. Does it make sense?\n",
    "\n",
    "If scores can take negative values, we could change the sign of the difference when we divide by a negative mean value. Here we do not have this problem (neither for MAE). But if we use a relative difference score, **we must impose that the scores are positive**.\n",
    "\n",
    "When we use a score the larger the better, it is the opposite: differences are attenuated when the scores are high (good). This seems to be the case when the results of \"relative difference\" make best sense in the case of antagonist judges.\n",
    "\n",
    "In the future, we might want to adopt a **uniform convention**. Perhaps we should always assume that scores are positive or zero and the larger the better. Perhaps even all normalized between 0 and 1 like probabilities. If scores are the smaller the better and between 0 and +inf (like an energy, a MAE, a MSE, or a negative log likelyhood) they can be converted to a score between 0 and 1, the larger the better, with exp(- beta x), where beta is a positive number. But of course, if the scores are normalized, then the methods perform more similarly (particularly, mean/median/average rank)."
   ]
  },
  {
   "cell_type": "code",
   "execution_count": null,
   "metadata": {},
   "outputs": [],
   "source": []
  }
 ],
 "metadata": {
  "kernelspec": {
   "display_name": "Python 3",
   "language": "python",
   "name": "python3"
  },
  "language_info": {
   "codemirror_mode": {
    "name": "ipython",
    "version": 3
   },
   "file_extension": ".py",
   "mimetype": "text/x-python",
   "name": "python",
   "nbconvert_exporter": "python",
   "pygments_lexer": "ipython3",
   "version": "3.8.5"
  }
 },
 "nbformat": 4,
 "nbformat_minor": 4
}
